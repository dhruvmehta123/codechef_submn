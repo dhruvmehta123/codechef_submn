{
  "nbformat": 4,
  "nbformat_minor": 0,
  "metadata": {
    "colab": {
      "provenance": []
    },
    "kernelspec": {
      "name": "python3",
      "display_name": "Python 3"
    },
    "language_info": {
      "name": "python"
    }
  },
  "cells": [
    {
      "cell_type": "code",
      "execution_count": 18,
      "metadata": {
        "id": "NkosUVFRzd1p"
      },
      "outputs": [],
      "source": [
        "def n_fib(n):\n",
        "  if n==1:\n",
        "    return 0\n",
        "  if n==2:\n",
        "    return 1\n",
        "  else:\n",
        "    return n_fib(n-2)+n_fib(n-1)\n",
        "#Assuming that there is no 0th term, the 1st term refers to 0 in series 0,1,1,2...\n"
      ]
    },
    {
      "cell_type": "code",
      "source": [
        "def Golden_ratio(n):\n",
        "  a=n_fib(n)\n",
        "  b=n_fib(n-1)\n",
        "  print('Golden ratio is approximately',a/b)"
      ],
      "metadata": {
        "id": "0G4xFY1e1uCo"
      },
      "execution_count": 22,
      "outputs": []
    },
    {
      "cell_type": "code",
      "source": [
        "Golden_ratio(6)"
      ],
      "metadata": {
        "colab": {
          "base_uri": "https://localhost:8080/"
        },
        "id": "DdKODw7N1-Tp",
        "outputId": "f9fa6d19-ce9e-4b7c-9a3f-e3f5d743050d"
      },
      "execution_count": 23,
      "outputs": [
        {
          "output_type": "stream",
          "name": "stdout",
          "text": [
            "Golden ratio is approximately 1.6666666666666667\n"
          ]
        }
      ]
    },
    {
      "cell_type": "code",
      "source": [
        "Golden_ratio(10)"
      ],
      "metadata": {
        "colab": {
          "base_uri": "https://localhost:8080/"
        },
        "id": "5kHpYsPq2C67",
        "outputId": "423802d2-05b1-4224-fe4c-d06b99080819"
      },
      "execution_count": 25,
      "outputs": [
        {
          "output_type": "stream",
          "name": "stdout",
          "text": [
            "Golden ratio is approximately 1.619047619047619\n"
          ]
        }
      ]
    }
  ]
}